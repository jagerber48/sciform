{
 "cells": [
  {
   "cell_type": "code",
   "execution_count": null,
   "id": "ec4427f1-623b-4cd5-a077-63d5204cc7b0",
   "metadata": {},
   "outputs": [],
   "source": [
    "from sciform import Formatter\n",
    "from IPython.display import display_latex, display_html\n",
    "\n",
    "formatter = Formatter(exp_mode=\"scientific\", superscript=True)\n",
    "val = formatter(123456, 789)\n",
    "\n",
    "print('String:')\n",
    "print(val)\n",
    "print('\\nASCII:')\n",
    "print(val.as_ascii())\n",
    "print('\\nLatex:')\n",
    "display_latex(val)\n",
    "print('\\nHTML:')\n",
    "display_html(val)\n",
    "print('\\nDefault Display (HTML)')\n",
    "display(val)"
   ]
  },
  {
   "cell_type": "code",
   "execution_count": null,
   "id": "b0a7a48a-ff80-4a11-ac40-667d957f4904",
   "metadata": {},
   "outputs": [],
   "source": []
  }
 ],
 "metadata": {
  "kernelspec": {
   "display_name": "Python 3 (ipykernel)",
   "language": "python",
   "name": "python3"
  },
  "language_info": {
   "codemirror_mode": {
    "name": "ipython",
    "version": 3
   },
   "file_extension": ".py",
   "mimetype": "text/x-python",
   "name": "python",
   "nbconvert_exporter": "python",
   "pygments_lexer": "ipython3",
   "version": "3.10.11"
  }
 },
 "nbformat": 4,
 "nbformat_minor": 5
}
