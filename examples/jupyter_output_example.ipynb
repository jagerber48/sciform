{
 "cells": [
  {
   "cell_type": "code",
   "execution_count": 1,
   "id": "ec4427f1-623b-4cd5-a077-63d5204cc7b0",
   "metadata": {},
   "outputs": [
    {
     "name": "stdout",
     "output_type": "stream",
     "text": [
      "String:\n",
      "(1.23456 ± 0.00789)×10⁵\n",
      "\n",
      "ASCII:\n",
      "(1.23456 +/- 0.00789)e+05\n",
      "\n",
      "Latex:\n"
     ]
    },
    {
     "data": {
      "text/latex": [
       "$(1.23456\\:\\pm\\:0.00789)\\times10^{5}$"
      ]
     },
     "metadata": {},
     "output_type": "display_data"
    },
    {
     "name": "stdout",
     "output_type": "stream",
     "text": [
      "\n",
      "HTML:\n"
     ]
    },
    {
     "data": {
      "text/html": [
       "(1.23456 ± 0.00789)×10<sup>5</sup>"
      ]
     },
     "metadata": {},
     "output_type": "display_data"
    },
    {
     "name": "stdout",
     "output_type": "stream",
     "text": [
      "\n",
      "Default Display (HTML)\n"
     ]
    },
    {
     "data": {
      "text/html": [
       "(1.23456 ± 0.00789)×10<sup>5</sup>"
      ],
      "text/latex": [
       "$(1.23456\\:\\pm\\:0.00789)\\times10^{5}$"
      ],
      "text/plain": [
       "'(1.23456 ± 0.00789)×10⁵'"
      ]
     },
     "metadata": {},
     "output_type": "display_data"
    }
   ],
   "source": [
    "from sciform import Formatter\n",
    "from IPython.display import display_latex, display_html\n",
    "\n",
    "formatter = Formatter(exp_mode=\"scientific\", superscript=True)\n",
    "val = formatter(123456, 789)\n",
    "\n",
    "print('String:')\n",
    "print(val)\n",
    "print('\\nASCII:')\n",
    "print(val.as_ascii())\n",
    "print('\\nLatex:')\n",
    "display_latex(val)\n",
    "print('\\nHTML:')\n",
    "display_html(val)\n",
    "print('\\nDefault Display (HTML)')\n",
    "display(val)"
   ]
  },
  {
   "cell_type": "code",
   "execution_count": null,
   "id": "b0a7a48a-ff80-4a11-ac40-667d957f4904",
   "metadata": {},
   "outputs": [],
   "source": []
  }
 ],
 "metadata": {
  "kernelspec": {
   "display_name": "Python 3 (ipykernel)",
   "language": "python",
   "name": "python3"
  },
  "language_info": {
   "codemirror_mode": {
    "name": "ipython",
    "version": 3
   },
   "file_extension": ".py",
   "mimetype": "text/x-python",
   "name": "python",
   "nbconvert_exporter": "python",
   "pygments_lexer": "ipython3",
   "version": "3.10.11"
  }
 },
 "nbformat": 4,
 "nbformat_minor": 5
}
